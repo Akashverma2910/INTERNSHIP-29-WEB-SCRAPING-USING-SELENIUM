{
 "cells": [
  {
   "cell_type": "code",
   "execution_count": 1,
   "id": "0e68d5e9",
   "metadata": {},
   "outputs": [
    {
     "name": "stdout",
     "output_type": "stream",
     "text": [
      "Requirement already satisfied: selenium in c:\\users\\lenovo\\anaconda3\\lib\\site-packages (4.3.0)\n",
      "Requirement already satisfied: trio~=0.17 in c:\\users\\lenovo\\anaconda3\\lib\\site-packages (from selenium) (0.21.0)\n",
      "Requirement already satisfied: trio-websocket~=0.9 in c:\\users\\lenovo\\anaconda3\\lib\\site-packages (from selenium) (0.9.2)\n",
      "Requirement already satisfied: urllib3[secure,socks]~=1.26 in c:\\users\\lenovo\\anaconda3\\lib\\site-packages (from selenium) (1.26.7)\n",
      "Requirement already satisfied: sortedcontainers in c:\\users\\lenovo\\anaconda3\\lib\\site-packages (from trio~=0.17->selenium) (2.4.0)\n",
      "Requirement already satisfied: sniffio in c:\\users\\lenovo\\anaconda3\\lib\\site-packages (from trio~=0.17->selenium) (1.2.0)\n",
      "Requirement already satisfied: async-generator>=1.9 in c:\\users\\lenovo\\anaconda3\\lib\\site-packages (from trio~=0.17->selenium) (1.10)\n",
      "Requirement already satisfied: cffi>=1.14 in c:\\users\\lenovo\\anaconda3\\lib\\site-packages (from trio~=0.17->selenium) (1.14.6)\n",
      "Requirement already satisfied: attrs>=19.2.0 in c:\\users\\lenovo\\anaconda3\\lib\\site-packages (from trio~=0.17->selenium) (21.2.0)\n",
      "Requirement already satisfied: idna in c:\\users\\lenovo\\anaconda3\\lib\\site-packages (from trio~=0.17->selenium) (3.2)\n",
      "Requirement already satisfied: outcome in c:\\users\\lenovo\\anaconda3\\lib\\site-packages (from trio~=0.17->selenium) (1.2.0)\n",
      "Requirement already satisfied: pycparser in c:\\users\\lenovo\\anaconda3\\lib\\site-packages (from cffi>=1.14->trio~=0.17->selenium) (2.20)\n",
      "Requirement already satisfied: wsproto>=0.14 in c:\\users\\lenovo\\anaconda3\\lib\\site-packages (from trio-websocket~=0.9->selenium) (1.1.0)\n",
      "Requirement already satisfied: PySocks!=1.5.7,<2.0,>=1.5.6 in c:\\users\\lenovo\\anaconda3\\lib\\site-packages (from urllib3[secure,socks]~=1.26->selenium) (1.7.1)\n",
      "Requirement already satisfied: pyOpenSSL>=0.14 in c:\\users\\lenovo\\anaconda3\\lib\\site-packages (from urllib3[secure,socks]~=1.26->selenium) (21.0.0)\n",
      "Requirement already satisfied: cryptography>=1.3.4 in c:\\users\\lenovo\\anaconda3\\lib\\site-packages (from urllib3[secure,socks]~=1.26->selenium) (3.4.8)\n",
      "Requirement already satisfied: certifi in c:\\users\\lenovo\\anaconda3\\lib\\site-packages (from urllib3[secure,socks]~=1.26->selenium) (2021.10.8)\n",
      "Requirement already satisfied: six>=1.5.2 in c:\\users\\lenovo\\anaconda3\\lib\\site-packages (from pyOpenSSL>=0.14->urllib3[secure,socks]~=1.26->selenium) (1.16.0)\n",
      "Requirement already satisfied: h11<1,>=0.9.0 in c:\\users\\lenovo\\anaconda3\\lib\\site-packages (from wsproto>=0.14->trio-websocket~=0.9->selenium) (0.13.0)\n"
     ]
    }
   ],
   "source": [
    "!pip install selenium"
   ]
  },
  {
   "cell_type": "code",
   "execution_count": 20,
   "id": "d15f476c",
   "metadata": {},
   "outputs": [],
   "source": [
    "# let's import all required libraries\n",
    "import selenium\n",
    "from selenium import webdriver\n",
    "import pandas as pd\n",
    "import warnings\n",
    "warnings.filterwarnings(\"ignore\")"
   ]
  },
  {
   "cell_type": "code",
   "execution_count": 21,
   "id": "2d93390f",
   "metadata": {},
   "outputs": [],
   "source": [
    "driver = webdriver.Chrome(r'C:\\Users\\LENOVO\\Downloads\\chromedriver_win32\\chromedriver.exe')# connecting to the web driver"
   ]
  },
  {
   "cell_type": "markdown",
   "id": "25471d1c",
   "metadata": {},
   "source": [
    "# QUESTION -1"
   ]
  },
  {
   "cell_type": "code",
   "execution_count": 4,
   "id": "2e9131f7",
   "metadata": {},
   "outputs": [],
   "source": [
    "url =  'https://www.naukri.com/'\n",
    "driver.get(url)"
   ]
  },
  {
   "cell_type": "code",
   "execution_count": 5,
   "id": "9a90937a",
   "metadata": {},
   "outputs": [],
   "source": [
    "from selenium.webdriver.common.by import By\n",
    "from selenium.webdriver.support.ui import WebDriverWait \n",
    "from selenium.webdriver.support import expected_conditions as EC"
   ]
  },
  {
   "cell_type": "code",
   "execution_count": 10,
   "id": "df5f7aff",
   "metadata": {},
   "outputs": [
    {
     "data": {
      "text/plain": [
       "<selenium.webdriver.remote.webelement.WebElement (session=\"eb1cb09243e92291e11ac69f682bfee8\", element=\"3444792b-b170-43f0-88c7-b51daa97fb12\")>"
      ]
     },
     "execution_count": 10,
     "metadata": {},
     "output_type": "execute_result"
    }
   ],
   "source": [
    "search_job =driver.find_element(By.CLASS_NAME, 'suggestor-input ')# Finding web element for search job bar using id\n",
    "search_job"
   ]
  },
  {
   "cell_type": "code",
   "execution_count": 11,
   "id": "51dbc717",
   "metadata": {},
   "outputs": [],
   "source": [
    "#write on search bar\n",
    "search_job.send_keys(\"Data Analyst\")"
   ]
  },
  {
   "cell_type": "code",
   "execution_count": 12,
   "id": "c9a2b4e9",
   "metadata": {},
   "outputs": [
    {
     "data": {
      "text/plain": [
       "<selenium.webdriver.remote.webelement.WebElement (session=\"eb1cb09243e92291e11ac69f682bfee8\", element=\"b1af1267-e376-44c5-874b-87fc9cf812b9\")>"
      ]
     },
     "execution_count": 12,
     "metadata": {},
     "output_type": "execute_result"
    }
   ],
   "source": [
    "# Finding web element for search location bar using relative xpath\n",
    "search_locn = driver.find_element(\"xpath\",'/html/body/div[1]/div[2]/div[3]/div/div/div[5]/div/div/div/input')\n",
    "search_locn"
   ]
  },
  {
   "cell_type": "code",
   "execution_count": 13,
   "id": "f8dae959",
   "metadata": {},
   "outputs": [],
   "source": [
    "#finding web element for job location bar\n",
    "search_locn.send_keys(\"Bangalore\")"
   ]
  },
  {
   "cell_type": "code",
   "execution_count": 14,
   "id": "040634c2",
   "metadata": {},
   "outputs": [
    {
     "data": {
      "text/plain": [
       "<selenium.webdriver.remote.webelement.WebElement (session=\"eb1cb09243e92291e11ac69f682bfee8\", element=\"56401b4f-9309-4535-bb2b-f13b7921ca7c\")>"
      ]
     },
     "execution_count": 14,
     "metadata": {},
     "output_type": "execute_result"
    }
   ],
   "source": [
    "#clicking using absolute xpath\n",
    "search_bttn = driver.find_element('xpath','/html/body/div[1]/div[2]/div[3]/div/div/div[6]')\n",
    "search_bttn"
   ]
  },
  {
   "cell_type": "code",
   "execution_count": 15,
   "id": "ba75c5c9",
   "metadata": {},
   "outputs": [],
   "source": [
    "search_bttn.click()"
   ]
  },
  {
   "cell_type": "markdown",
   "id": "eed22218",
   "metadata": {},
   "source": [
    "# extracting job titles"
   ]
  },
  {
   "cell_type": "code",
   "execution_count": 16,
   "id": "035958ea",
   "metadata": {},
   "outputs": [
    {
     "data": {
      "text/plain": [
       "20"
      ]
     },
     "execution_count": 16,
     "metadata": {},
     "output_type": "execute_result"
    }
   ],
   "source": [
    "# let's extract all web elements having job titles\n",
    "title_tags = driver.find_elements('xpath','//a[@class=\"title fw500 ellipsis\"]')\n",
    "len(title_tags)"
   ]
  },
  {
   "cell_type": "code",
   "execution_count": 17,
   "id": "05f99700",
   "metadata": {},
   "outputs": [
    {
     "data": {
      "text/plain": [
       "['Associate - Data Analyst',\n",
       " 'Sr.Business Data Analyst',\n",
       " 'Sr Data Analyst',\n",
       " 'Senior Data Analysis Analyst',\n",
       " 'Job opportunity For Data Analyst at Trellance - India',\n",
       " 'Data Analyst',\n",
       " 'Senior Data Analyst',\n",
       " 'Master Data Management Business Analyst',\n",
       " 'Hiring For Data Analyst',\n",
       " 'Data Analyst',\n",
       " 'Associate Data Analyst',\n",
       " 'Associate Data Analyst',\n",
       " 'Data Analyst/Senior Data Analyst',\n",
       " 'Financial Data Analyst',\n",
       " 'Data Analyst II',\n",
       " 'Senior Data Management Analyst',\n",
       " 'Data Analyst - Python/Artificial Intelligence',\n",
       " 'Performance Data Analyst',\n",
       " 'Happay - Data Analyst',\n",
       " 'Data Analyst']"
      ]
     },
     "execution_count": 17,
     "metadata": {},
     "output_type": "execute_result"
    }
   ],
   "source": [
    "#Now the text of the job title  is inside the web element extracted above\n",
    "#so we will run a for loop to ittirate over the tags\n",
    "job_titles=[]\n",
    "\n",
    "for i in title_tags:\n",
    "    job_titles.append(i.text)\n",
    "    \n",
    "job_titles    "
   ]
  },
  {
   "cell_type": "markdown",
   "id": "a1bcb613",
   "metadata": {},
   "source": [
    "# Extracting job location"
   ]
  },
  {
   "cell_type": "code",
   "execution_count": 18,
   "id": "85a8338b",
   "metadata": {},
   "outputs": [
    {
     "data": {
      "text/plain": [
       "20"
      ]
     },
     "execution_count": 18,
     "metadata": {},
     "output_type": "execute_result"
    }
   ],
   "source": [
    "# let's extract all web elements having job location\n",
    "location_tags = driver.find_elements('xpath','//li[@class=\"fleft grey-text br2 placeHolderLi location\"]')\n",
    "len(location_tags)"
   ]
  },
  {
   "cell_type": "code",
   "execution_count": 19,
   "id": "1ebb8099",
   "metadata": {},
   "outputs": [
    {
     "data": {
      "text/plain": [
       "['Bangalore/Bengaluru',\n",
       " 'Bangalore/Bengaluru, karnataka\\n(WFH during Covid)',\n",
       " 'Bangalore/Bengaluru',\n",
       " 'Bangalore/Bengaluru, Pune, Chennai',\n",
       " 'Bangalore/Bengaluru, Ahmedabad',\n",
       " 'Bangalore/Bengaluru',\n",
       " 'Bangalore/Bengaluru(Old Madras Road)',\n",
       " 'Bangalore/Bengaluru',\n",
       " 'Bangalore/Bengaluru',\n",
       " 'Bangalore/Bengaluru, Noida, Hyderabad/Secunderabad, Gurgaon/Gurugram, Chennai, Mumbai (All Areas), Pune',\n",
       " 'Bangalore/Bengaluru',\n",
       " 'Bangalore/Bengaluru',\n",
       " 'Bangalore/Bengaluru',\n",
       " 'Bangalore/Bengaluru',\n",
       " 'Bangalore/Bengaluru',\n",
       " 'Bangalore/Bengaluru',\n",
       " 'Bangalore/Bengaluru, Kolkata, Mumbai, Hyderabad/Secunderabad, Pune, Ahmedabad',\n",
       " 'Bangalore/Bengaluru',\n",
       " 'Bangalore/Bengaluru',\n",
       " 'Bangalore/Bengaluru, Kolkata, New Delhi, Hyderabad/Secunderabad, Chennai, Mumbai (All Areas)']"
      ]
     },
     "execution_count": 19,
     "metadata": {},
     "output_type": "execute_result"
    }
   ],
   "source": [
    "#Now the text of the job location  is inside the web element extracted above\n",
    "#so we will run a for loop to ittirate over the tags\n",
    "job_location = []\n",
    "\n",
    "for i in location_tags:\n",
    "    job_location.append(i.text)\n",
    "    \n",
    "job_location "
   ]
  },
  {
   "cell_type": "markdown",
   "id": "3a1c6a5b",
   "metadata": {},
   "source": [
    "# Extracting company names"
   ]
  },
  {
   "cell_type": "code",
   "execution_count": 20,
   "id": "aa9ffdef",
   "metadata": {},
   "outputs": [
    {
     "data": {
      "text/plain": [
       "20"
      ]
     },
     "execution_count": 20,
     "metadata": {},
     "output_type": "execute_result"
    }
   ],
   "source": [
    "company_tags = driver.find_elements('xpath','//a[@class=\"subTitle ellipsis fleft\"]')\n",
    "len(company_tags)"
   ]
  },
  {
   "cell_type": "code",
   "execution_count": 21,
   "id": "90a25211",
   "metadata": {},
   "outputs": [
    {
     "data": {
      "text/plain": [
       "['Myntra',\n",
       " 'Collabera',\n",
       " 'Thomson Reuters',\n",
       " 'Capco',\n",
       " 'CURise Analytics Pvt. Ltd.',\n",
       " 'Thomson Reuters',\n",
       " 'KrazyBee',\n",
       " 'Accenture',\n",
       " 'Flipkart',\n",
       " 'Wipro',\n",
       " 'Optum',\n",
       " 'Optum',\n",
       " 'Meesho',\n",
       " 'Nuance India',\n",
       " 'Cerner',\n",
       " 'Wells Fargo',\n",
       " 'iMindYourBusiness',\n",
       " 'Fluence',\n",
       " 'Happay-Expense Management Solution for Businesses',\n",
       " 'Kititan Co., Ltd']"
      ]
     },
     "execution_count": 21,
     "metadata": {},
     "output_type": "execute_result"
    }
   ],
   "source": [
    "company_names=[]\n",
    "\n",
    "for i in company_tags:\n",
    "    company_names.append(i.text)\n",
    "    \n",
    "company_names "
   ]
  },
  {
   "cell_type": "markdown",
   "id": "4374bb1d",
   "metadata": {},
   "source": [
    "# Extracting experience required"
   ]
  },
  {
   "cell_type": "raw",
   "id": "025bd80a",
   "metadata": {},
   "source": [
    "exp = driver.find_elements('xpath','//li[@class=\"fleft grey-text br2 placeHolderLi experience\"]')\n",
    "len(exp)"
   ]
  },
  {
   "cell_type": "code",
   "execution_count": 23,
   "id": "439dd25a",
   "metadata": {},
   "outputs": [
    {
     "data": {
      "text/plain": [
       "['0-2 Yrs',\n",
       " '6-11 Yrs',\n",
       " '5-8 Yrs',\n",
       " '7-12 Yrs',\n",
       " '0-2 Yrs',\n",
       " '2-3 Yrs',\n",
       " '3-6 Yrs',\n",
       " '6-8 Yrs',\n",
       " '2-5 Yrs',\n",
       " '4-9 Yrs',\n",
       " '2-7 Yrs',\n",
       " '1-4 Yrs',\n",
       " '3-6 Yrs',\n",
       " '3-8 Yrs',\n",
       " '2-4 Yrs',\n",
       " '4-7 Yrs',\n",
       " '0-2 Yrs',\n",
       " '2-5 Yrs',\n",
       " '1-2 Yrs',\n",
       " '5-10 Yrs']"
      ]
     },
     "execution_count": 23,
     "metadata": {},
     "output_type": "execute_result"
    }
   ],
   "source": [
    "experience_required = []\n",
    "\n",
    "for i in exp:\n",
    "    experience_required.append(i.text)\n",
    "    \n",
    "experience_required "
   ]
  },
  {
   "cell_type": "code",
   "execution_count": 24,
   "id": "7e3812c0",
   "metadata": {},
   "outputs": [
    {
     "data": {
      "text/html": [
       "<div>\n",
       "<style scoped>\n",
       "    .dataframe tbody tr th:only-of-type {\n",
       "        vertical-align: middle;\n",
       "    }\n",
       "\n",
       "    .dataframe tbody tr th {\n",
       "        vertical-align: top;\n",
       "    }\n",
       "\n",
       "    .dataframe thead th {\n",
       "        text-align: right;\n",
       "    }\n",
       "</style>\n",
       "<table border=\"1\" class=\"dataframe\">\n",
       "  <thead>\n",
       "    <tr style=\"text-align: right;\">\n",
       "      <th></th>\n",
       "      <th>job-title</th>\n",
       "      <th>job-location</th>\n",
       "      <th>company-name</th>\n",
       "      <th>Experence-required</th>\n",
       "    </tr>\n",
       "  </thead>\n",
       "  <tbody>\n",
       "    <tr>\n",
       "      <th>0</th>\n",
       "      <td>Associate - Data Analyst</td>\n",
       "      <td>Bangalore/Bengaluru</td>\n",
       "      <td>Myntra</td>\n",
       "      <td>0-2 Yrs</td>\n",
       "    </tr>\n",
       "    <tr>\n",
       "      <th>1</th>\n",
       "      <td>Sr.Business Data Analyst</td>\n",
       "      <td>Bangalore/Bengaluru, karnataka\\n(WFH during Co...</td>\n",
       "      <td>Collabera</td>\n",
       "      <td>6-11 Yrs</td>\n",
       "    </tr>\n",
       "    <tr>\n",
       "      <th>2</th>\n",
       "      <td>Sr Data Analyst</td>\n",
       "      <td>Bangalore/Bengaluru</td>\n",
       "      <td>Thomson Reuters</td>\n",
       "      <td>5-8 Yrs</td>\n",
       "    </tr>\n",
       "    <tr>\n",
       "      <th>3</th>\n",
       "      <td>Senior Data Analysis Analyst</td>\n",
       "      <td>Bangalore/Bengaluru, Pune, Chennai</td>\n",
       "      <td>Capco</td>\n",
       "      <td>7-12 Yrs</td>\n",
       "    </tr>\n",
       "    <tr>\n",
       "      <th>4</th>\n",
       "      <td>Job opportunity For Data Analyst at Trellance ...</td>\n",
       "      <td>Bangalore/Bengaluru, Ahmedabad</td>\n",
       "      <td>CURise Analytics Pvt. Ltd.</td>\n",
       "      <td>0-2 Yrs</td>\n",
       "    </tr>\n",
       "    <tr>\n",
       "      <th>5</th>\n",
       "      <td>Data Analyst</td>\n",
       "      <td>Bangalore/Bengaluru</td>\n",
       "      <td>Thomson Reuters</td>\n",
       "      <td>2-3 Yrs</td>\n",
       "    </tr>\n",
       "    <tr>\n",
       "      <th>6</th>\n",
       "      <td>Senior Data Analyst</td>\n",
       "      <td>Bangalore/Bengaluru(Old Madras Road)</td>\n",
       "      <td>KrazyBee</td>\n",
       "      <td>3-6 Yrs</td>\n",
       "    </tr>\n",
       "    <tr>\n",
       "      <th>7</th>\n",
       "      <td>Master Data Management Business Analyst</td>\n",
       "      <td>Bangalore/Bengaluru</td>\n",
       "      <td>Accenture</td>\n",
       "      <td>6-8 Yrs</td>\n",
       "    </tr>\n",
       "    <tr>\n",
       "      <th>8</th>\n",
       "      <td>Hiring For Data Analyst</td>\n",
       "      <td>Bangalore/Bengaluru</td>\n",
       "      <td>Flipkart</td>\n",
       "      <td>2-5 Yrs</td>\n",
       "    </tr>\n",
       "    <tr>\n",
       "      <th>9</th>\n",
       "      <td>Data Analyst</td>\n",
       "      <td>Bangalore/Bengaluru, Noida, Hyderabad/Secunder...</td>\n",
       "      <td>Wipro</td>\n",
       "      <td>4-9 Yrs</td>\n",
       "    </tr>\n",
       "    <tr>\n",
       "      <th>10</th>\n",
       "      <td>Associate Data Analyst</td>\n",
       "      <td>Bangalore/Bengaluru</td>\n",
       "      <td>Optum</td>\n",
       "      <td>2-7 Yrs</td>\n",
       "    </tr>\n",
       "    <tr>\n",
       "      <th>11</th>\n",
       "      <td>Associate Data Analyst</td>\n",
       "      <td>Bangalore/Bengaluru</td>\n",
       "      <td>Optum</td>\n",
       "      <td>1-4 Yrs</td>\n",
       "    </tr>\n",
       "    <tr>\n",
       "      <th>12</th>\n",
       "      <td>Data Analyst/Senior Data Analyst</td>\n",
       "      <td>Bangalore/Bengaluru</td>\n",
       "      <td>Meesho</td>\n",
       "      <td>3-6 Yrs</td>\n",
       "    </tr>\n",
       "    <tr>\n",
       "      <th>13</th>\n",
       "      <td>Financial Data Analyst</td>\n",
       "      <td>Bangalore/Bengaluru</td>\n",
       "      <td>Nuance India</td>\n",
       "      <td>3-8 Yrs</td>\n",
       "    </tr>\n",
       "    <tr>\n",
       "      <th>14</th>\n",
       "      <td>Data Analyst II</td>\n",
       "      <td>Bangalore/Bengaluru</td>\n",
       "      <td>Cerner</td>\n",
       "      <td>2-4 Yrs</td>\n",
       "    </tr>\n",
       "    <tr>\n",
       "      <th>15</th>\n",
       "      <td>Senior Data Management Analyst</td>\n",
       "      <td>Bangalore/Bengaluru</td>\n",
       "      <td>Wells Fargo</td>\n",
       "      <td>4-7 Yrs</td>\n",
       "    </tr>\n",
       "    <tr>\n",
       "      <th>16</th>\n",
       "      <td>Data Analyst - Python/Artificial Intelligence</td>\n",
       "      <td>Bangalore/Bengaluru, Kolkata, Mumbai, Hyderaba...</td>\n",
       "      <td>iMindYourBusiness</td>\n",
       "      <td>0-2 Yrs</td>\n",
       "    </tr>\n",
       "    <tr>\n",
       "      <th>17</th>\n",
       "      <td>Performance Data Analyst</td>\n",
       "      <td>Bangalore/Bengaluru</td>\n",
       "      <td>Fluence</td>\n",
       "      <td>2-5 Yrs</td>\n",
       "    </tr>\n",
       "    <tr>\n",
       "      <th>18</th>\n",
       "      <td>Happay - Data Analyst</td>\n",
       "      <td>Bangalore/Bengaluru</td>\n",
       "      <td>Happay-Expense Management Solution for Businesses</td>\n",
       "      <td>1-2 Yrs</td>\n",
       "    </tr>\n",
       "    <tr>\n",
       "      <th>19</th>\n",
       "      <td>Data Analyst</td>\n",
       "      <td>Bangalore/Bengaluru, Kolkata, New Delhi, Hyder...</td>\n",
       "      <td>Kititan Co., Ltd</td>\n",
       "      <td>5-10 Yrs</td>\n",
       "    </tr>\n",
       "  </tbody>\n",
       "</table>\n",
       "</div>"
      ],
      "text/plain": [
       "                                            job-title  \\\n",
       "0                            Associate - Data Analyst   \n",
       "1                            Sr.Business Data Analyst   \n",
       "2                                     Sr Data Analyst   \n",
       "3                        Senior Data Analysis Analyst   \n",
       "4   Job opportunity For Data Analyst at Trellance ...   \n",
       "5                                        Data Analyst   \n",
       "6                                 Senior Data Analyst   \n",
       "7             Master Data Management Business Analyst   \n",
       "8                             Hiring For Data Analyst   \n",
       "9                                        Data Analyst   \n",
       "10                             Associate Data Analyst   \n",
       "11                             Associate Data Analyst   \n",
       "12                   Data Analyst/Senior Data Analyst   \n",
       "13                             Financial Data Analyst   \n",
       "14                                    Data Analyst II   \n",
       "15                     Senior Data Management Analyst   \n",
       "16      Data Analyst - Python/Artificial Intelligence   \n",
       "17                           Performance Data Analyst   \n",
       "18                              Happay - Data Analyst   \n",
       "19                                       Data Analyst   \n",
       "\n",
       "                                         job-location  \\\n",
       "0                                 Bangalore/Bengaluru   \n",
       "1   Bangalore/Bengaluru, karnataka\\n(WFH during Co...   \n",
       "2                                 Bangalore/Bengaluru   \n",
       "3                  Bangalore/Bengaluru, Pune, Chennai   \n",
       "4                      Bangalore/Bengaluru, Ahmedabad   \n",
       "5                                 Bangalore/Bengaluru   \n",
       "6                Bangalore/Bengaluru(Old Madras Road)   \n",
       "7                                 Bangalore/Bengaluru   \n",
       "8                                 Bangalore/Bengaluru   \n",
       "9   Bangalore/Bengaluru, Noida, Hyderabad/Secunder...   \n",
       "10                                Bangalore/Bengaluru   \n",
       "11                                Bangalore/Bengaluru   \n",
       "12                                Bangalore/Bengaluru   \n",
       "13                                Bangalore/Bengaluru   \n",
       "14                                Bangalore/Bengaluru   \n",
       "15                                Bangalore/Bengaluru   \n",
       "16  Bangalore/Bengaluru, Kolkata, Mumbai, Hyderaba...   \n",
       "17                                Bangalore/Bengaluru   \n",
       "18                                Bangalore/Bengaluru   \n",
       "19  Bangalore/Bengaluru, Kolkata, New Delhi, Hyder...   \n",
       "\n",
       "                                         company-name Experence-required  \n",
       "0                                              Myntra            0-2 Yrs  \n",
       "1                                           Collabera           6-11 Yrs  \n",
       "2                                     Thomson Reuters            5-8 Yrs  \n",
       "3                                               Capco           7-12 Yrs  \n",
       "4                          CURise Analytics Pvt. Ltd.            0-2 Yrs  \n",
       "5                                     Thomson Reuters            2-3 Yrs  \n",
       "6                                            KrazyBee            3-6 Yrs  \n",
       "7                                           Accenture            6-8 Yrs  \n",
       "8                                            Flipkart            2-5 Yrs  \n",
       "9                                               Wipro            4-9 Yrs  \n",
       "10                                              Optum            2-7 Yrs  \n",
       "11                                              Optum            1-4 Yrs  \n",
       "12                                             Meesho            3-6 Yrs  \n",
       "13                                       Nuance India            3-8 Yrs  \n",
       "14                                             Cerner            2-4 Yrs  \n",
       "15                                        Wells Fargo            4-7 Yrs  \n",
       "16                                  iMindYourBusiness            0-2 Yrs  \n",
       "17                                            Fluence            2-5 Yrs  \n",
       "18  Happay-Expense Management Solution for Businesses            1-2 Yrs  \n",
       "19                                   Kititan Co., Ltd           5-10 Yrs  "
      ]
     },
     "execution_count": 24,
     "metadata": {},
     "output_type": "execute_result"
    }
   ],
   "source": [
    "#CREATING A DATAFRAME FOR FOLLOWING FEATURES\n",
    "data = pd.DataFrame()\n",
    "data['job-title'] = job_titles\n",
    "data['job-location'] = job_location\n",
    "data['company-name'] = company_names\n",
    "data['Experence-required'] = experience_required \n",
    "data"
   ]
  },
  {
   "cell_type": "markdown",
   "id": "4ac57350",
   "metadata": {},
   "source": [
    "# QUESTION - 2"
   ]
  },
  {
   "cell_type": "code",
   "execution_count": 25,
   "id": "e5f89b8f",
   "metadata": {},
   "outputs": [],
   "source": [
    "url =  'https://www.naukri.com/'\n",
    "driver.get(url)"
   ]
  },
  {
   "cell_type": "code",
   "execution_count": 26,
   "id": "548d9227",
   "metadata": {},
   "outputs": [
    {
     "data": {
      "text/plain": [
       "<selenium.webdriver.remote.webelement.WebElement (session=\"eb1cb09243e92291e11ac69f682bfee8\", element=\"9d2931e7-cea8-4df8-8211-2192f3d1a408\")>"
      ]
     },
     "execution_count": 26,
     "metadata": {},
     "output_type": "execute_result"
    }
   ],
   "source": [
    "search_job =driver.find_element(By.CLASS_NAME, 'suggestor-input ')\n",
    "search_job"
   ]
  },
  {
   "cell_type": "code",
   "execution_count": 27,
   "id": "763753e9",
   "metadata": {},
   "outputs": [],
   "source": [
    "search_job.send_keys(\"Data Scientist\")"
   ]
  },
  {
   "cell_type": "code",
   "execution_count": 28,
   "id": "10d38297",
   "metadata": {},
   "outputs": [
    {
     "data": {
      "text/plain": [
       "<selenium.webdriver.remote.webelement.WebElement (session=\"eb1cb09243e92291e11ac69f682bfee8\", element=\"b2a23ed2-dd3f-4201-9c49-96f72978c9e2\")>"
      ]
     },
     "execution_count": 28,
     "metadata": {},
     "output_type": "execute_result"
    }
   ],
   "source": [
    "search_locn = driver.find_element(\"xpath\",'/html/body/div[1]/div[2]/div[3]/div/div/div[5]/div/div/div/input')\n",
    "search_locn"
   ]
  },
  {
   "cell_type": "code",
   "execution_count": 29,
   "id": "d0220b46",
   "metadata": {},
   "outputs": [],
   "source": [
    "search_locn.send_keys(\"Bangalore\")"
   ]
  },
  {
   "cell_type": "code",
   "execution_count": 30,
   "id": "4f451d66",
   "metadata": {},
   "outputs": [
    {
     "data": {
      "text/plain": [
       "<selenium.webdriver.remote.webelement.WebElement (session=\"eb1cb09243e92291e11ac69f682bfee8\", element=\"00ae5f00-4886-41d3-8b5d-d9f378f72b01\")>"
      ]
     },
     "execution_count": 30,
     "metadata": {},
     "output_type": "execute_result"
    }
   ],
   "source": [
    "search_bttn = driver.find_element('xpath','/html/body/div[1]/div[2]/div[3]/div/div/div[6]')\n",
    "search_bttn"
   ]
  },
  {
   "cell_type": "code",
   "execution_count": 31,
   "id": "4ec268b5",
   "metadata": {},
   "outputs": [],
   "source": [
    "search_bttn.click()"
   ]
  },
  {
   "cell_type": "code",
   "execution_count": 32,
   "id": "deaa7343",
   "metadata": {},
   "outputs": [
    {
     "data": {
      "text/plain": [
       "20"
      ]
     },
     "execution_count": 32,
     "metadata": {},
     "output_type": "execute_result"
    }
   ],
   "source": [
    "title_tags = driver.find_elements('xpath','//a[@class=\"title fw500 ellipsis\"]')\n",
    "len(title_tags)"
   ]
  },
  {
   "cell_type": "code",
   "execution_count": 33,
   "id": "935ffdec",
   "metadata": {},
   "outputs": [
    {
     "data": {
      "text/plain": [
       "['Urgent Job Opening For AI Practitioner - Data Science at Wipro Holmes',\n",
       " 'Hiring For Senior Data Scientist',\n",
       " 'Dataiku Consultant',\n",
       " 'Data Scientist',\n",
       " 'Data & Analytics Tech - Informatica Cloud- Senior Associate',\n",
       " 'Data Scientist: Advanced Analytics',\n",
       " 'Research Scientist',\n",
       " 'Principal - Data Scientist',\n",
       " 'Research and Development -AI/ML -(PhD )',\n",
       " 'Opportunity For Data Scientist - Female Candidates ONLY',\n",
       " 'Senior Data Science Engineer',\n",
       " 'Data Science - Engineering Manager',\n",
       " 'Data Scientist',\n",
       " 'EY GBS - Assistant Director - Data Science (10+ years), Bangalore',\n",
       " 'Data Scientist',\n",
       " 'Data Scientist, Personalization',\n",
       " 'AWS Sagemaker',\n",
       " 'Data Scientist',\n",
       " 'Data Scientist: Artificial Intelligence',\n",
       " 'Data Scientist - IN3']"
      ]
     },
     "execution_count": 33,
     "metadata": {},
     "output_type": "execute_result"
    }
   ],
   "source": [
    "job_titles_2 = []\n",
    "\n",
    "for i in title_tags:\n",
    "    job_titles_2.append(i.text)\n",
    "    \n",
    "job_titles_2"
   ]
  },
  {
   "cell_type": "code",
   "execution_count": 34,
   "id": "968a3709",
   "metadata": {},
   "outputs": [
    {
     "data": {
      "text/plain": [
       "20"
      ]
     },
     "execution_count": 34,
     "metadata": {},
     "output_type": "execute_result"
    }
   ],
   "source": [
    "location_tags = driver.find_elements('xpath','//li[@class=\"fleft grey-text br2 placeHolderLi location\"]')\n",
    "len(location_tags)"
   ]
  },
  {
   "cell_type": "code",
   "execution_count": 35,
   "id": "92fe8213",
   "metadata": {},
   "outputs": [
    {
     "data": {
      "text/plain": [
       "['Bangalore/Bengaluru, Kochi/Cochin, New Delhi, Coimbatore, Chennai, Pune, Mumbai, Hyderabad',\n",
       " 'Bangalore/Bengaluru, Pune',\n",
       " 'Bangalore/Bengaluru, Pune, Chennai',\n",
       " 'Bangalore/Bengaluru',\n",
       " 'Bangalore/Bengaluru',\n",
       " 'Bangalore/Bengaluru',\n",
       " 'Bangalore/Bengaluru',\n",
       " 'Bangalore/Bengaluru',\n",
       " 'Bangalore/Bengaluru, Noida, Hyderabad/Secunderabad, Pune, Gurgaon/Gurugram, Chennai, Delhi / NCR',\n",
       " 'Bangalore/Bengaluru, Gurgaon/Gurugram, Mumbai (All Areas)',\n",
       " 'Bangalore/Bengaluru, Gurgaon/Gurugram, Mumbai (All Areas)',\n",
       " 'Bangalore/Bengaluru, Noida, Mumbai',\n",
       " 'Bangalore/Bengaluru, Mumbai (All Areas)',\n",
       " 'Bangalore/Bengaluru',\n",
       " 'Bangalore/Bengaluru',\n",
       " 'Bangalore/Bengaluru',\n",
       " 'Bangalore/Bengaluru\\n(WFH during Covid)',\n",
       " 'Bangalore/Bengaluru\\n(WFH during Covid)',\n",
       " 'Bangalore/Bengaluru',\n",
       " 'Bangalore/Bengaluru']"
      ]
     },
     "execution_count": 35,
     "metadata": {},
     "output_type": "execute_result"
    }
   ],
   "source": [
    "job_location = []\n",
    "\n",
    "for i in location_tags:\n",
    "    job_location.append(i.text)\n",
    "    \n",
    "job_location "
   ]
  },
  {
   "cell_type": "code",
   "execution_count": 36,
   "id": "763711bf",
   "metadata": {},
   "outputs": [
    {
     "data": {
      "text/plain": [
       "20"
      ]
     },
     "execution_count": 36,
     "metadata": {},
     "output_type": "execute_result"
    }
   ],
   "source": [
    "company_tags = driver.find_elements('xpath','//a[@class=\"subTitle ellipsis fleft\"]')\n",
    "len(company_tags)"
   ]
  },
  {
   "cell_type": "code",
   "execution_count": 37,
   "id": "18870a24",
   "metadata": {},
   "outputs": [
    {
     "data": {
      "text/plain": [
       "['Wipro',\n",
       " 'TATA CONSULTANCY SERVICES (TCS)',\n",
       " 'Wipro',\n",
       " 'Applied Materials',\n",
       " 'PwC',\n",
       " 'IBM',\n",
       " 'IBM',\n",
       " 'Schneider Electric',\n",
       " 'EXL',\n",
       " 'PayU',\n",
       " 'Fractal Analytics',\n",
       " 'Paytm',\n",
       " 'UPL',\n",
       " 'EYGBS',\n",
       " 'IBM',\n",
       " 'Walmart',\n",
       " 'Wipro',\n",
       " 'Wipro',\n",
       " 'IBM',\n",
       " 'Walmart']"
      ]
     },
     "execution_count": 37,
     "metadata": {},
     "output_type": "execute_result"
    }
   ],
   "source": [
    "company_names=[]\n",
    "\n",
    "for i in company_tags:\n",
    "    company_names.append(i.text)\n",
    "    \n",
    "company_names "
   ]
  },
  {
   "cell_type": "code",
   "execution_count": 38,
   "id": "3241f5fb",
   "metadata": {},
   "outputs": [
    {
     "data": {
      "text/html": [
       "<div>\n",
       "<style scoped>\n",
       "    .dataframe tbody tr th:only-of-type {\n",
       "        vertical-align: middle;\n",
       "    }\n",
       "\n",
       "    .dataframe tbody tr th {\n",
       "        vertical-align: top;\n",
       "    }\n",
       "\n",
       "    .dataframe thead th {\n",
       "        text-align: right;\n",
       "    }\n",
       "</style>\n",
       "<table border=\"1\" class=\"dataframe\">\n",
       "  <thead>\n",
       "    <tr style=\"text-align: right;\">\n",
       "      <th></th>\n",
       "      <th>job-title</th>\n",
       "      <th>job-location</th>\n",
       "      <th>company-name</th>\n",
       "    </tr>\n",
       "  </thead>\n",
       "  <tbody>\n",
       "    <tr>\n",
       "      <th>0</th>\n",
       "      <td>Urgent Job Opening For AI Practitioner - Data ...</td>\n",
       "      <td>Bangalore/Bengaluru, Kochi/Cochin, New Delhi, ...</td>\n",
       "      <td>Wipro</td>\n",
       "    </tr>\n",
       "    <tr>\n",
       "      <th>1</th>\n",
       "      <td>Hiring For Senior Data Scientist</td>\n",
       "      <td>Bangalore/Bengaluru, Pune</td>\n",
       "      <td>TATA CONSULTANCY SERVICES (TCS)</td>\n",
       "    </tr>\n",
       "    <tr>\n",
       "      <th>2</th>\n",
       "      <td>Dataiku Consultant</td>\n",
       "      <td>Bangalore/Bengaluru, Pune, Chennai</td>\n",
       "      <td>Wipro</td>\n",
       "    </tr>\n",
       "    <tr>\n",
       "      <th>3</th>\n",
       "      <td>Data Scientist</td>\n",
       "      <td>Bangalore/Bengaluru</td>\n",
       "      <td>Applied Materials</td>\n",
       "    </tr>\n",
       "    <tr>\n",
       "      <th>4</th>\n",
       "      <td>Data &amp; Analytics Tech - Informatica Cloud- Sen...</td>\n",
       "      <td>Bangalore/Bengaluru</td>\n",
       "      <td>PwC</td>\n",
       "    </tr>\n",
       "    <tr>\n",
       "      <th>5</th>\n",
       "      <td>Data Scientist: Advanced Analytics</td>\n",
       "      <td>Bangalore/Bengaluru</td>\n",
       "      <td>IBM</td>\n",
       "    </tr>\n",
       "    <tr>\n",
       "      <th>6</th>\n",
       "      <td>Research Scientist</td>\n",
       "      <td>Bangalore/Bengaluru</td>\n",
       "      <td>IBM</td>\n",
       "    </tr>\n",
       "    <tr>\n",
       "      <th>7</th>\n",
       "      <td>Principal - Data Scientist</td>\n",
       "      <td>Bangalore/Bengaluru</td>\n",
       "      <td>Schneider Electric</td>\n",
       "    </tr>\n",
       "    <tr>\n",
       "      <th>8</th>\n",
       "      <td>Research and Development -AI/ML -(PhD )</td>\n",
       "      <td>Bangalore/Bengaluru, Noida, Hyderabad/Secunder...</td>\n",
       "      <td>EXL</td>\n",
       "    </tr>\n",
       "    <tr>\n",
       "      <th>9</th>\n",
       "      <td>Opportunity For Data Scientist - Female Candid...</td>\n",
       "      <td>Bangalore/Bengaluru, Gurgaon/Gurugram, Mumbai ...</td>\n",
       "      <td>PayU</td>\n",
       "    </tr>\n",
       "    <tr>\n",
       "      <th>10</th>\n",
       "      <td>Senior Data Science Engineer</td>\n",
       "      <td>Bangalore/Bengaluru, Gurgaon/Gurugram, Mumbai ...</td>\n",
       "      <td>Fractal Analytics</td>\n",
       "    </tr>\n",
       "    <tr>\n",
       "      <th>11</th>\n",
       "      <td>Data Science - Engineering Manager</td>\n",
       "      <td>Bangalore/Bengaluru, Noida, Mumbai</td>\n",
       "      <td>Paytm</td>\n",
       "    </tr>\n",
       "    <tr>\n",
       "      <th>12</th>\n",
       "      <td>Data Scientist</td>\n",
       "      <td>Bangalore/Bengaluru, Mumbai (All Areas)</td>\n",
       "      <td>UPL</td>\n",
       "    </tr>\n",
       "    <tr>\n",
       "      <th>13</th>\n",
       "      <td>EY GBS - Assistant Director - Data Science (10...</td>\n",
       "      <td>Bangalore/Bengaluru</td>\n",
       "      <td>EYGBS</td>\n",
       "    </tr>\n",
       "    <tr>\n",
       "      <th>14</th>\n",
       "      <td>Data Scientist</td>\n",
       "      <td>Bangalore/Bengaluru</td>\n",
       "      <td>IBM</td>\n",
       "    </tr>\n",
       "    <tr>\n",
       "      <th>15</th>\n",
       "      <td>Data Scientist, Personalization</td>\n",
       "      <td>Bangalore/Bengaluru</td>\n",
       "      <td>Walmart</td>\n",
       "    </tr>\n",
       "    <tr>\n",
       "      <th>16</th>\n",
       "      <td>AWS Sagemaker</td>\n",
       "      <td>Bangalore/Bengaluru\\n(WFH during Covid)</td>\n",
       "      <td>Wipro</td>\n",
       "    </tr>\n",
       "    <tr>\n",
       "      <th>17</th>\n",
       "      <td>Data Scientist</td>\n",
       "      <td>Bangalore/Bengaluru\\n(WFH during Covid)</td>\n",
       "      <td>Wipro</td>\n",
       "    </tr>\n",
       "    <tr>\n",
       "      <th>18</th>\n",
       "      <td>Data Scientist: Artificial Intelligence</td>\n",
       "      <td>Bangalore/Bengaluru</td>\n",
       "      <td>IBM</td>\n",
       "    </tr>\n",
       "    <tr>\n",
       "      <th>19</th>\n",
       "      <td>Data Scientist - IN3</td>\n",
       "      <td>Bangalore/Bengaluru</td>\n",
       "      <td>Walmart</td>\n",
       "    </tr>\n",
       "  </tbody>\n",
       "</table>\n",
       "</div>"
      ],
      "text/plain": [
       "                                            job-title  \\\n",
       "0   Urgent Job Opening For AI Practitioner - Data ...   \n",
       "1                    Hiring For Senior Data Scientist   \n",
       "2                                  Dataiku Consultant   \n",
       "3                                      Data Scientist   \n",
       "4   Data & Analytics Tech - Informatica Cloud- Sen...   \n",
       "5                  Data Scientist: Advanced Analytics   \n",
       "6                                  Research Scientist   \n",
       "7                          Principal - Data Scientist   \n",
       "8             Research and Development -AI/ML -(PhD )   \n",
       "9   Opportunity For Data Scientist - Female Candid...   \n",
       "10                       Senior Data Science Engineer   \n",
       "11                 Data Science - Engineering Manager   \n",
       "12                                     Data Scientist   \n",
       "13  EY GBS - Assistant Director - Data Science (10...   \n",
       "14                                     Data Scientist   \n",
       "15                    Data Scientist, Personalization   \n",
       "16                                      AWS Sagemaker   \n",
       "17                                     Data Scientist   \n",
       "18            Data Scientist: Artificial Intelligence   \n",
       "19                               Data Scientist - IN3   \n",
       "\n",
       "                                         job-location  \\\n",
       "0   Bangalore/Bengaluru, Kochi/Cochin, New Delhi, ...   \n",
       "1                           Bangalore/Bengaluru, Pune   \n",
       "2                  Bangalore/Bengaluru, Pune, Chennai   \n",
       "3                                 Bangalore/Bengaluru   \n",
       "4                                 Bangalore/Bengaluru   \n",
       "5                                 Bangalore/Bengaluru   \n",
       "6                                 Bangalore/Bengaluru   \n",
       "7                                 Bangalore/Bengaluru   \n",
       "8   Bangalore/Bengaluru, Noida, Hyderabad/Secunder...   \n",
       "9   Bangalore/Bengaluru, Gurgaon/Gurugram, Mumbai ...   \n",
       "10  Bangalore/Bengaluru, Gurgaon/Gurugram, Mumbai ...   \n",
       "11                 Bangalore/Bengaluru, Noida, Mumbai   \n",
       "12            Bangalore/Bengaluru, Mumbai (All Areas)   \n",
       "13                                Bangalore/Bengaluru   \n",
       "14                                Bangalore/Bengaluru   \n",
       "15                                Bangalore/Bengaluru   \n",
       "16            Bangalore/Bengaluru\\n(WFH during Covid)   \n",
       "17            Bangalore/Bengaluru\\n(WFH during Covid)   \n",
       "18                                Bangalore/Bengaluru   \n",
       "19                                Bangalore/Bengaluru   \n",
       "\n",
       "                       company-name  \n",
       "0                             Wipro  \n",
       "1   TATA CONSULTANCY SERVICES (TCS)  \n",
       "2                             Wipro  \n",
       "3                 Applied Materials  \n",
       "4                               PwC  \n",
       "5                               IBM  \n",
       "6                               IBM  \n",
       "7                Schneider Electric  \n",
       "8                               EXL  \n",
       "9                              PayU  \n",
       "10                Fractal Analytics  \n",
       "11                            Paytm  \n",
       "12                              UPL  \n",
       "13                            EYGBS  \n",
       "14                              IBM  \n",
       "15                          Walmart  \n",
       "16                            Wipro  \n",
       "17                            Wipro  \n",
       "18                              IBM  \n",
       "19                          Walmart  "
      ]
     },
     "execution_count": 38,
     "metadata": {},
     "output_type": "execute_result"
    }
   ],
   "source": [
    "data_2 = pd.DataFrame()\n",
    "data_2['job-title'] = job_titles_2\n",
    "data_2['job-location'] = job_location\n",
    "data_2['company-name'] = company_names\n",
    "data_2"
   ]
  },
  {
   "cell_type": "code",
   "execution_count": null,
   "id": "13cb1f33",
   "metadata": {},
   "outputs": [],
   "source": []
  },
  {
   "cell_type": "markdown",
   "id": "92dab054",
   "metadata": {},
   "source": [
    "# QUESTION - 3"
   ]
  },
  {
   "cell_type": "code",
   "execution_count": 46,
   "id": "97abd464",
   "metadata": {},
   "outputs": [],
   "source": [
    "url =  'https://www.naukri.com/'\n",
    "driver.get(url)"
   ]
  },
  {
   "cell_type": "code",
   "execution_count": 47,
   "id": "26219bc6",
   "metadata": {},
   "outputs": [
    {
     "data": {
      "text/plain": [
       "<selenium.webdriver.remote.webelement.WebElement (session=\"81182bdcbc62e09be1e2f5e7147bf997\", element=\"65a9652d-f6b6-4965-8f18-fb75d20b17eb\")>"
      ]
     },
     "execution_count": 47,
     "metadata": {},
     "output_type": "execute_result"
    }
   ],
   "source": [
    "search_job =driver.find_element(By.CLASS_NAME, 'suggestor-input ')\n",
    "search_job"
   ]
  },
  {
   "cell_type": "code",
   "execution_count": 49,
   "id": "ed243c44",
   "metadata": {},
   "outputs": [],
   "source": [
    "search_job.send_keys(\"Data Scientist\")"
   ]
  },
  {
   "cell_type": "code",
   "execution_count": 50,
   "id": "59c0d3a1",
   "metadata": {},
   "outputs": [
    {
     "data": {
      "text/plain": [
       "<selenium.webdriver.remote.webelement.WebElement (session=\"81182bdcbc62e09be1e2f5e7147bf997\", element=\"ac6ebf34-6a9e-4519-adc1-5a1b6a357c17\")>"
      ]
     },
     "execution_count": 50,
     "metadata": {},
     "output_type": "execute_result"
    }
   ],
   "source": [
    "search_locn = driver.find_element(\"xpath\",'/html/body/div[1]/div[2]/div[3]/div/div/div[5]/div/div/div/input')\n",
    "search_locn"
   ]
  },
  {
   "cell_type": "code",
   "execution_count": 51,
   "id": "46470a37",
   "metadata": {},
   "outputs": [],
   "source": [
    "search_locn.click()"
   ]
  },
  {
   "cell_type": "code",
   "execution_count": 52,
   "id": "700248ed",
   "metadata": {},
   "outputs": [
    {
     "ename": "NoSuchElementException",
     "evalue": "Message: no such element: Unable to locate element: {\"method\":\"xpath\",\"selector\":\"/html/body/div[1]/div[3]/div[2]/section[1]/div[2]/div[1]/div[2]/div[2]/label/p\"}\n  (Session info: chrome=103.0.5060.114)\nStacktrace:\nBacktrace:\n\tOrdinal0 [0x00E96463+2188387]\n\tOrdinal0 [0x00E2E461+1762401]\n\tOrdinal0 [0x00D43D78+802168]\n\tOrdinal0 [0x00D71880+989312]\n\tOrdinal0 [0x00D71B1B+989979]\n\tOrdinal0 [0x00D9E912+1173778]\n\tOrdinal0 [0x00D8C824+1099812]\n\tOrdinal0 [0x00D9CC22+1166370]\n\tOrdinal0 [0x00D8C5F6+1099254]\n\tOrdinal0 [0x00D66BE0+945120]\n\tOrdinal0 [0x00D67AD6+948950]\n\tGetHandleVerifier [0x011371F2+2712546]\n\tGetHandleVerifier [0x0112886D+2652765]\n\tGetHandleVerifier [0x00F2002A+520730]\n\tGetHandleVerifier [0x00F1EE06+516086]\n\tOrdinal0 [0x00E3468B+1787531]\n\tOrdinal0 [0x00E38E88+1805960]\n\tOrdinal0 [0x00E38F75+1806197]\n\tOrdinal0 [0x00E41DF1+1842673]\n\tBaseThreadInitThunk [0x76D6FA29+25]\n\tRtlGetAppContainerNamedObjectPath [0x77267A9E+286]\n\tRtlGetAppContainerNamedObjectPath [0x77267A6E+238]\n",
     "output_type": "error",
     "traceback": [
      "\u001b[1;31m---------------------------------------------------------------------------\u001b[0m",
      "\u001b[1;31mNoSuchElementException\u001b[0m                    Traceback (most recent call last)",
      "\u001b[1;32m~\\AppData\\Local\\Temp/ipykernel_7828/3567468923.py\u001b[0m in \u001b[0;36m<module>\u001b[1;34m\u001b[0m\n\u001b[1;32m----> 1\u001b[1;33m \u001b[0msalary_check\u001b[0m \u001b[1;33m=\u001b[0m \u001b[0mdriver\u001b[0m\u001b[1;33m.\u001b[0m\u001b[0mfind_element\u001b[0m\u001b[1;33m(\u001b[0m\u001b[1;34m\"xpath\"\u001b[0m\u001b[1;33m,\u001b[0m\u001b[1;34m'/html/body/div[1]/div[3]/div[2]/section[1]/div[2]/div[1]/div[2]/div[2]/label/p'\u001b[0m\u001b[1;33m)\u001b[0m\u001b[1;33m\u001b[0m\u001b[1;33m\u001b[0m\u001b[0m\n\u001b[0m\u001b[0;32m      2\u001b[0m \u001b[0msalary_check\u001b[0m\u001b[1;33m\u001b[0m\u001b[1;33m\u001b[0m\u001b[0m\n",
      "\u001b[1;32m~\\anaconda3\\lib\\site-packages\\selenium\\webdriver\\remote\\webdriver.py\u001b[0m in \u001b[0;36mfind_element\u001b[1;34m(self, by, value)\u001b[0m\n\u001b[0;32m    855\u001b[0m             \u001b[0mvalue\u001b[0m \u001b[1;33m=\u001b[0m \u001b[1;34m'[name=\"%s\"]'\u001b[0m \u001b[1;33m%\u001b[0m \u001b[0mvalue\u001b[0m\u001b[1;33m\u001b[0m\u001b[1;33m\u001b[0m\u001b[0m\n\u001b[0;32m    856\u001b[0m \u001b[1;33m\u001b[0m\u001b[0m\n\u001b[1;32m--> 857\u001b[1;33m         return self.execute(Command.FIND_ELEMENT, {\n\u001b[0m\u001b[0;32m    858\u001b[0m             \u001b[1;34m'using'\u001b[0m\u001b[1;33m:\u001b[0m \u001b[0mby\u001b[0m\u001b[1;33m,\u001b[0m\u001b[1;33m\u001b[0m\u001b[1;33m\u001b[0m\u001b[0m\n\u001b[0;32m    859\u001b[0m             'value': value})['value']\n",
      "\u001b[1;32m~\\anaconda3\\lib\\site-packages\\selenium\\webdriver\\remote\\webdriver.py\u001b[0m in \u001b[0;36mexecute\u001b[1;34m(self, driver_command, params)\u001b[0m\n\u001b[0;32m    433\u001b[0m         \u001b[0mresponse\u001b[0m \u001b[1;33m=\u001b[0m \u001b[0mself\u001b[0m\u001b[1;33m.\u001b[0m\u001b[0mcommand_executor\u001b[0m\u001b[1;33m.\u001b[0m\u001b[0mexecute\u001b[0m\u001b[1;33m(\u001b[0m\u001b[0mdriver_command\u001b[0m\u001b[1;33m,\u001b[0m \u001b[0mparams\u001b[0m\u001b[1;33m)\u001b[0m\u001b[1;33m\u001b[0m\u001b[1;33m\u001b[0m\u001b[0m\n\u001b[0;32m    434\u001b[0m         \u001b[1;32mif\u001b[0m \u001b[0mresponse\u001b[0m\u001b[1;33m:\u001b[0m\u001b[1;33m\u001b[0m\u001b[1;33m\u001b[0m\u001b[0m\n\u001b[1;32m--> 435\u001b[1;33m             \u001b[0mself\u001b[0m\u001b[1;33m.\u001b[0m\u001b[0merror_handler\u001b[0m\u001b[1;33m.\u001b[0m\u001b[0mcheck_response\u001b[0m\u001b[1;33m(\u001b[0m\u001b[0mresponse\u001b[0m\u001b[1;33m)\u001b[0m\u001b[1;33m\u001b[0m\u001b[1;33m\u001b[0m\u001b[0m\n\u001b[0m\u001b[0;32m    436\u001b[0m             response['value'] = self._unwrap_value(\n\u001b[0;32m    437\u001b[0m                 response.get('value', None))\n",
      "\u001b[1;32m~\\anaconda3\\lib\\site-packages\\selenium\\webdriver\\remote\\errorhandler.py\u001b[0m in \u001b[0;36mcheck_response\u001b[1;34m(self, response)\u001b[0m\n\u001b[0;32m    245\u001b[0m                 \u001b[0malert_text\u001b[0m \u001b[1;33m=\u001b[0m \u001b[0mvalue\u001b[0m\u001b[1;33m[\u001b[0m\u001b[1;34m'alert'\u001b[0m\u001b[1;33m]\u001b[0m\u001b[1;33m.\u001b[0m\u001b[0mget\u001b[0m\u001b[1;33m(\u001b[0m\u001b[1;34m'text'\u001b[0m\u001b[1;33m)\u001b[0m\u001b[1;33m\u001b[0m\u001b[1;33m\u001b[0m\u001b[0m\n\u001b[0;32m    246\u001b[0m             \u001b[1;32mraise\u001b[0m \u001b[0mexception_class\u001b[0m\u001b[1;33m(\u001b[0m\u001b[0mmessage\u001b[0m\u001b[1;33m,\u001b[0m \u001b[0mscreen\u001b[0m\u001b[1;33m,\u001b[0m \u001b[0mstacktrace\u001b[0m\u001b[1;33m,\u001b[0m \u001b[0malert_text\u001b[0m\u001b[1;33m)\u001b[0m  \u001b[1;31m# type: ignore[call-arg]  # mypy is not smart enough here\u001b[0m\u001b[1;33m\u001b[0m\u001b[1;33m\u001b[0m\u001b[0m\n\u001b[1;32m--> 247\u001b[1;33m         \u001b[1;32mraise\u001b[0m \u001b[0mexception_class\u001b[0m\u001b[1;33m(\u001b[0m\u001b[0mmessage\u001b[0m\u001b[1;33m,\u001b[0m \u001b[0mscreen\u001b[0m\u001b[1;33m,\u001b[0m \u001b[0mstacktrace\u001b[0m\u001b[1;33m)\u001b[0m\u001b[1;33m\u001b[0m\u001b[1;33m\u001b[0m\u001b[0m\n\u001b[0m\u001b[0;32m    248\u001b[0m \u001b[1;33m\u001b[0m\u001b[0m\n\u001b[0;32m    249\u001b[0m     \u001b[1;32mdef\u001b[0m \u001b[0m_value_or_default\u001b[0m\u001b[1;33m(\u001b[0m\u001b[0mself\u001b[0m\u001b[1;33m,\u001b[0m \u001b[0mobj\u001b[0m\u001b[1;33m:\u001b[0m \u001b[0mMapping\u001b[0m\u001b[1;33m[\u001b[0m\u001b[0m_KT\u001b[0m\u001b[1;33m,\u001b[0m \u001b[0m_VT\u001b[0m\u001b[1;33m]\u001b[0m\u001b[1;33m,\u001b[0m \u001b[0mkey\u001b[0m\u001b[1;33m:\u001b[0m \u001b[0m_KT\u001b[0m\u001b[1;33m,\u001b[0m \u001b[0mdefault\u001b[0m\u001b[1;33m:\u001b[0m \u001b[0m_VT\u001b[0m\u001b[1;33m)\u001b[0m \u001b[1;33m->\u001b[0m \u001b[0m_VT\u001b[0m\u001b[1;33m:\u001b[0m\u001b[1;33m\u001b[0m\u001b[1;33m\u001b[0m\u001b[0m\n",
      "\u001b[1;31mNoSuchElementException\u001b[0m: Message: no such element: Unable to locate element: {\"method\":\"xpath\",\"selector\":\"/html/body/div[1]/div[3]/div[2]/section[1]/div[2]/div[1]/div[2]/div[2]/label/p\"}\n  (Session info: chrome=103.0.5060.114)\nStacktrace:\nBacktrace:\n\tOrdinal0 [0x00E96463+2188387]\n\tOrdinal0 [0x00E2E461+1762401]\n\tOrdinal0 [0x00D43D78+802168]\n\tOrdinal0 [0x00D71880+989312]\n\tOrdinal0 [0x00D71B1B+989979]\n\tOrdinal0 [0x00D9E912+1173778]\n\tOrdinal0 [0x00D8C824+1099812]\n\tOrdinal0 [0x00D9CC22+1166370]\n\tOrdinal0 [0x00D8C5F6+1099254]\n\tOrdinal0 [0x00D66BE0+945120]\n\tOrdinal0 [0x00D67AD6+948950]\n\tGetHandleVerifier [0x011371F2+2712546]\n\tGetHandleVerifier [0x0112886D+2652765]\n\tGetHandleVerifier [0x00F2002A+520730]\n\tGetHandleVerifier [0x00F1EE06+516086]\n\tOrdinal0 [0x00E3468B+1787531]\n\tOrdinal0 [0x00E38E88+1805960]\n\tOrdinal0 [0x00E38F75+1806197]\n\tOrdinal0 [0x00E41DF1+1842673]\n\tBaseThreadInitThunk [0x76D6FA29+25]\n\tRtlGetAppContainerNamedObjectPath [0x77267A9E+286]\n\tRtlGetAppContainerNamedObjectPath [0x77267A6E+238]\n"
     ]
    }
   ],
   "source": [
    "salary_check = driver.find_element(\"xpath\",'/html/body/div[1]/div[3]/div[2]/section[1]/div[2]/div[1]/div[2]/div[2]/label/p')\n",
    "salary_check"
   ]
  },
  {
   "cell_type": "code",
   "execution_count": null,
   "id": "fdb9ecb9",
   "metadata": {},
   "outputs": [],
   "source": [
    "salary_check.click()"
   ]
  },
  {
   "cell_type": "code",
   "execution_count": null,
   "id": "f39d2a56",
   "metadata": {},
   "outputs": [],
   "source": [
    "title_tags = driver.find_elements('xpath','//a[@class=\"title fw500 ellipsis\"]')\n",
    "len(title_tags)"
   ]
  },
  {
   "cell_type": "code",
   "execution_count": null,
   "id": "8454de9b",
   "metadata": {},
   "outputs": [],
   "source": [
    "job_titles_3 = []\n",
    "\n",
    "for i in title_tags:\n",
    "    job_titles_3.append(i.text)\n",
    "    \n",
    "job_titles_3"
   ]
  },
  {
   "cell_type": "code",
   "execution_count": null,
   "id": "287c8663",
   "metadata": {},
   "outputs": [],
   "source": [
    "location_tags = driver.find_elements('xpath','//li[@class=\"fleft grey-text br2 placeHolderLi location\"]')\n",
    "len(location_tags)"
   ]
  },
  {
   "cell_type": "code",
   "execution_count": null,
   "id": "4104cde0",
   "metadata": {},
   "outputs": [],
   "source": [
    "job_location = []\n",
    "\n",
    "for i in location_tags:\n",
    "    job_location.append(i.text)\n",
    "    \n",
    "job_location "
   ]
  },
  {
   "cell_type": "code",
   "execution_count": null,
   "id": "ac638b14",
   "metadata": {},
   "outputs": [],
   "source": [
    "company_tags = driver.find_elements('xpath','//a[@class=\"subTitle ellipsis fleft\"]')\n",
    "len(company_tags)"
   ]
  },
  {
   "cell_type": "code",
   "execution_count": null,
   "id": "4acac7f5",
   "metadata": {},
   "outputs": [],
   "source": [
    "company_names=[]\n",
    "\n",
    "for i in company_tags:\n",
    "    company_names.append(i.text)\n",
    "    \n",
    "company_names "
   ]
  },
  {
   "cell_type": "code",
   "execution_count": null,
   "id": "8842552b",
   "metadata": {},
   "outputs": [],
   "source": [
    "exp = driver.find_elements('xpath','//li[@class=\"fleft grey-text br2 placeHolderLi experience\"]')\n",
    "len(exp)"
   ]
  },
  {
   "cell_type": "code",
   "execution_count": null,
   "id": "802a3608",
   "metadata": {},
   "outputs": [],
   "source": [
    "experience_required = []\n",
    "\n",
    "for i in exp:\n",
    "    experience_required.append(i.text)\n",
    "    \n",
    "experience_required "
   ]
  },
  {
   "cell_type": "code",
   "execution_count": null,
   "id": "feb262d5",
   "metadata": {},
   "outputs": [],
   "source": [
    "data_3 = pd.DataFrame()\n",
    "data_3['job-title'] = job_titles_3\n",
    "data_3['job-location'] = job_location\n",
    "data_3['company-name'] = company_names\n",
    "data_3['Experence-required'] = experience_required \n",
    "data_3"
   ]
  },
  {
   "cell_type": "code",
   "execution_count": null,
   "id": "d7009b89",
   "metadata": {},
   "outputs": [],
   "source": []
  },
  {
   "cell_type": "markdown",
   "id": "e2125e9c",
   "metadata": {},
   "source": [
    "#  QUESTION - 4"
   ]
  },
  {
   "cell_type": "code",
   "execution_count": null,
   "id": "d48d1ce5",
   "metadata": {},
   "outputs": [],
   "source": [
    "url = 'http://www.flipkart.com/'\n",
    "driver.get(url)    "
   ]
  },
  {
   "cell_type": "code",
   "execution_count": null,
   "id": "7181d847",
   "metadata": {},
   "outputs": [],
   "source": [
    "search_product =driver.find_element(By.CLASS_NAME, '_3704LK ')\n",
    "search_product"
   ]
  },
  {
   "cell_type": "code",
   "execution_count": null,
   "id": "4ec338c2",
   "metadata": {},
   "outputs": [],
   "source": [
    "search_product.send_keys(\"sunglasses\")"
   ]
  },
  {
   "cell_type": "code",
   "execution_count": null,
   "id": "61f7dc5b",
   "metadata": {},
   "outputs": [],
   "source": [
    "search_button = driver.find_element('xpath','/html/body/div[1]/div/div[1]/div[1]/div[2]/div[2]/form/div/button')\n",
    "search_button"
   ]
  },
  {
   "cell_type": "code",
   "execution_count": null,
   "id": "95082d19",
   "metadata": {},
   "outputs": [],
   "source": [
    "search_button.click()"
   ]
  },
  {
   "cell_type": "code",
   "execution_count": null,
   "id": "7759259a",
   "metadata": {},
   "outputs": [],
   "source": [
    "brand_tags = driver.find_elements('xpath','//div[@class=\"_2WkVRV\"]')\n",
    "len(brand_tags)"
   ]
  },
  {
   "cell_type": "code",
   "execution_count": null,
   "id": "d92c6c60",
   "metadata": {},
   "outputs": [],
   "source": [
    "Brand = []\n",
    "\n",
    "for i in brand_tags:\n",
    "    Brand.append(i.text)\n",
    "    \n",
    "Brand"
   ]
  },
  {
   "cell_type": "code",
   "execution_count": null,
   "id": "4a91063b",
   "metadata": {},
   "outputs": [],
   "source": [
    "prd_desc = driver.find_elements('xpath','//a[@class=\"IRpwTa\"]')\n",
    "len(prd_desc)"
   ]
  },
  {
   "cell_type": "code",
   "execution_count": null,
   "id": "3a97c803",
   "metadata": {},
   "outputs": [],
   "source": [
    "product_description = []\n",
    "\n",
    "for i in prd_desc:\n",
    "    product_description.append(i.text)\n",
    "    \n",
    "product_description"
   ]
  },
  {
   "cell_type": "code",
   "execution_count": null,
   "id": "1f332eca",
   "metadata": {},
   "outputs": [],
   "source": [
    "price = driver.find_elements('xpath','//div[@class=\"_30jeq3\"]')\n",
    "len(price)"
   ]
  },
  {
   "cell_type": "code",
   "execution_count": null,
   "id": "67763c1f",
   "metadata": {},
   "outputs": [],
   "source": [
    "Price = []\n",
    "\n",
    "for i in price:\n",
    "    Price.append(i.text)\n",
    "    \n",
    "Price"
   ]
  },
  {
   "cell_type": "code",
   "execution_count": null,
   "id": "c82a7f5e",
   "metadata": {},
   "outputs": [],
   "source": [
    "prcnt = driver.find_elements('xpath','//div[@class=\"_3Ay6Sb\"]')\n",
    "len(prcnt)"
   ]
  },
  {
   "cell_type": "code",
   "execution_count": null,
   "id": "2fcb3495",
   "metadata": {},
   "outputs": [],
   "source": [
    "Percentage = []\n",
    "\n",
    "for i in prcnt:\n",
    "    Percentage.append(i.text)\n",
    "    \n",
    "Percentage"
   ]
  },
  {
   "cell_type": "code",
   "execution_count": null,
   "id": "bd1ea8ea",
   "metadata": {},
   "outputs": [],
   "source": [
    "nxt_button = driver.find_element('xpath','/html/body/div[1]/div/div[3]/div[1]/div[2]/div[12]/div/div/nav/a[11]/span')\n",
    "nxt_button"
   ]
  },
  {
   "cell_type": "code",
   "execution_count": null,
   "id": "0a261367",
   "metadata": {},
   "outputs": [],
   "source": [
    "nxt_button.click()"
   ]
  },
  {
   "cell_type": "code",
   "execution_count": null,
   "id": "5b6567b9",
   "metadata": {},
   "outputs": [],
   "source": [
    "brand_tags = driver.find_elements('xpath','//div[@class=\"_2WkVRV\"]')\n",
    "len(brand_tags)\n",
    "\n",
    "Brand = []\n",
    "\n",
    "for i in brand_tags:\n",
    "    Brand.append(i.text)\n",
    "    \n",
    "Brand\n",
    "\n",
    "prd_desc = driver.find_elements('xpath','//a[@class=\"IRpwTa\"]')\n",
    "len(prd_desc)\n",
    "\n",
    "product_description = []\n",
    "\n",
    "for i in prd_desc:\n",
    "    product_description.append(i.text)\n",
    "    \n",
    "product_description\n",
    "\n",
    "price = driver.find_elements('xpath','//div[@class=\"_30jeq3\"]')\n",
    "len(price)\n",
    "\n",
    "Price = []\n",
    "\n",
    "for i in price:\n",
    "    Price.append(i.text)\n",
    "    \n",
    "Price\n",
    "\n",
    "prcnt = driver.find_elements('xpath','//div[@class=\"_3Ay6Sb\"]')\n",
    "len(prcnt)\n",
    "\n",
    "Percentage = []\n",
    "\n",
    "for i in prcnt:\n",
    "    Percentage.append(i.text)\n",
    "    \n",
    "Percentage\n",
    "\n",
    "print(Brand)\n",
    "print(Percentage)\n",
    "print(Price)\n",
    "print(product_description)\n"
   ]
  },
  {
   "cell_type": "code",
   "execution_count": null,
   "id": "70b7db47",
   "metadata": {},
   "outputs": [],
   "source": [
    "nxt_button = driver.find_element('xpath','/html/body/div[1]/div/div[3]/div[1]/div[2]/div[12]/div/div/nav/a[12]/span')\n",
    "nxt_button"
   ]
  },
  {
   "cell_type": "code",
   "execution_count": null,
   "id": "2d7a48d0",
   "metadata": {},
   "outputs": [],
   "source": [
    "nxt_button.click()"
   ]
  },
  {
   "cell_type": "code",
   "execution_count": null,
   "id": "d997695d",
   "metadata": {},
   "outputs": [],
   "source": [
    "brand_tags = driver.find_elements('xpath','//div[@class=\"_2WkVRV\"]')[0:20]\n",
    "len(brand_tags)\n",
    "\n",
    "Brand = []\n",
    "\n",
    "for i in brand_tags:\n",
    "    Brand.append(i.text)\n",
    "    \n",
    "Brand\n",
    "\n",
    "prd_desc = driver.find_elements('xpath','//a[@class=\"IRpwTa\"]')[0:20]\n",
    "len(prd_desc)\n",
    "\n",
    "product_description = []\n",
    "\n",
    "for i in prd_desc:\n",
    "    product_description.append(i.text)\n",
    "    \n",
    "product_description\n",
    "\n",
    "price = driver.find_elements('xpath','//div[@class=\"_30jeq3\"]')[0:20]\n",
    "len(price)\n",
    "\n",
    "Price = []\n",
    "\n",
    "for i in price:\n",
    "    Price.append(i.text)\n",
    "    \n",
    "Price\n",
    "\n",
    "prcnt = driver.find_elements('xpath','//div[@class=\"_3Ay6Sb\"]')[0:20]\n",
    "len(prcnt)\n",
    "\n",
    "Percentage = []\n",
    "\n",
    "for i in prcnt:\n",
    "    Percentage.append(i.text)\n",
    "    \n",
    "Percentage\n",
    "\n",
    "print(Brand)\n",
    "print(Percentage)\n",
    "print(Price)\n",
    "print(product_description)"
   ]
  },
  {
   "cell_type": "code",
   "execution_count": null,
   "id": "f936c4b7",
   "metadata": {},
   "outputs": [],
   "source": []
  },
  {
   "cell_type": "markdown",
   "id": "0e66390d",
   "metadata": {},
   "source": [
    "# QUESTION - 5"
   ]
  },
  {
   "cell_type": "code",
   "execution_count": null,
   "id": "1805b206",
   "metadata": {},
   "outputs": [],
   "source": [
    "url = 'http://www.flipkart.com/'\n",
    "driver.get(url)  "
   ]
  },
  {
   "cell_type": "code",
   "execution_count": null,
   "id": "cd1f011d",
   "metadata": {},
   "outputs": [],
   "source": [
    "search_product =driver.find_element(By.CLASS_NAME, '_3704LK ')\n",
    "search_product"
   ]
  },
  {
   "cell_type": "code",
   "execution_count": null,
   "id": "5d09d54e",
   "metadata": {},
   "outputs": [],
   "source": [
    "search_product.send_keys(\"iphone 11\")"
   ]
  },
  {
   "cell_type": "code",
   "execution_count": null,
   "id": "a82b2fba",
   "metadata": {},
   "outputs": [],
   "source": [
    "search_button = driver.find_element('xpath','/html/body/div[1]/div/div[1]/div[1]/div[2]/div[2]/form/div/button')\n",
    "search_button"
   ]
  },
  {
   "cell_type": "code",
   "execution_count": null,
   "id": "baa7c41f",
   "metadata": {},
   "outputs": [],
   "source": [
    "search_button.click()"
   ]
  },
  {
   "cell_type": "code",
   "execution_count": null,
   "id": "cc4fa06e",
   "metadata": {},
   "outputs": [],
   "source": [
    "brand_tags = driver.find_elements('xpath',\"/html/body/div/div/div[3]/div[1]/div[2]/div[2]/div/div/div/a/div[2]/div[1]/div[2]\")\n",
    "len(brand_tags)"
   ]
  },
  {
   "cell_type": "code",
   "execution_count": null,
   "id": "6c866272",
   "metadata": {},
   "outputs": [],
   "source": [
    "brand_tags.text"
   ]
  },
  {
   "cell_type": "code",
   "execution_count": null,
   "id": "65efca31",
   "metadata": {},
   "outputs": [],
   "source": []
  },
  {
   "cell_type": "code",
   "execution_count": null,
   "id": "d9faea98",
   "metadata": {},
   "outputs": [],
   "source": []
  },
  {
   "cell_type": "code",
   "execution_count": null,
   "id": "f1a63cc2",
   "metadata": {},
   "outputs": [],
   "source": [
    "url = 'http://www.flipkart.com/'\n",
    "driver.get(url)"
   ]
  },
  {
   "cell_type": "code",
   "execution_count": null,
   "id": "899593d6",
   "metadata": {},
   "outputs": [],
   "source": [
    "search_product =driver.find_element(By.CLASS_NAME, '_3704LK ')\n",
    "search_product"
   ]
  },
  {
   "cell_type": "code",
   "execution_count": null,
   "id": "75685872",
   "metadata": {},
   "outputs": [],
   "source": [
    "search_product.send_keys('sneakers')"
   ]
  },
  {
   "cell_type": "code",
   "execution_count": null,
   "id": "cbbffe6b",
   "metadata": {},
   "outputs": [],
   "source": [
    "search_button = driver.find_element('xpath','/html/body/div[1]/div/div[1]/div[1]/div[2]/div[2]/form/div/button')\n",
    "search_button"
   ]
  },
  {
   "cell_type": "code",
   "execution_count": null,
   "id": "79d7e4f4",
   "metadata": {},
   "outputs": [],
   "source": [
    "search_button.click()"
   ]
  },
  {
   "cell_type": "code",
   "execution_count": null,
   "id": "c7ac1880",
   "metadata": {},
   "outputs": [],
   "source": [
    "brand_tags = driver.find_elements('xpath','//div[@class=\"_2WkVRV\"]')\n",
    "len(brand_tags)\n",
    "\n",
    "Brand = []\n",
    "\n",
    "for i in brand_tags:\n",
    "    Brand.append(i.text)\n",
    "    \n",
    "Brand\n",
    "\n",
    "prd_desc = driver.find_elements('xpath','//a[@class=\"IRpwTa\"]')\n",
    "len(prd_desc)\n",
    "\n",
    "product_description = []\n",
    "\n",
    "for i in prd_desc:\n",
    "    product_description.append(i.text)\n",
    "    \n",
    "product_description\n",
    "\n",
    "price = driver.find_elements('xpath','//div[@class=\"_30jeq3\"]')\n",
    "len(price)\n",
    "\n",
    "Price = []\n",
    "\n",
    "for i in price:\n",
    "    Price.append(i.text)\n",
    "    \n",
    "Price\n",
    "\n",
    "prcnt = driver.find_elements('xpath','//div[@class=\"_3Ay6Sb\"]')\n",
    "len(prcnt)\n",
    "\n",
    "Percentage = []\n",
    "\n",
    "for i in prcnt:\n",
    "    Percentage.append(i.text)\n",
    "    \n",
    "Percentage\n",
    "\n",
    "print(Brand)\n",
    "print(Percentage)\n",
    "print(Price)\n",
    "print(product_description)\n"
   ]
  },
  {
   "cell_type": "code",
   "execution_count": null,
   "id": "421ecb36",
   "metadata": {},
   "outputs": [],
   "source": [
    "nxt_button = driver.find_element('xpath','/html/body/div[1]/div/div[3]/div[1]/div[2]/div[12]/div/div/nav/a[11]/span')\n",
    "nxt_button"
   ]
  },
  {
   "cell_type": "code",
   "execution_count": null,
   "id": "e4ff208a",
   "metadata": {},
   "outputs": [],
   "source": [
    "nxt_button.click()"
   ]
  },
  {
   "cell_type": "code",
   "execution_count": null,
   "id": "005f8d2b",
   "metadata": {},
   "outputs": [],
   "source": [
    "brand_tags = driver.find_elements('xpath','//div[@class=\"_2WkVRV\"]')\n",
    "len(brand_tags)\n",
    "\n",
    "Brand = []\n",
    "\n",
    "for i in brand_tags:\n",
    "    Brand.append(i.text)\n",
    "    \n",
    "Brand\n",
    "\n",
    "prd_desc = driver.find_elements('xpath','//a[@class=\"IRpwTa\"]')\n",
    "len(prd_desc)\n",
    "\n",
    "product_description = []\n",
    "\n",
    "for i in prd_desc:\n",
    "    product_description.append(i.text)\n",
    "    \n",
    "product_description\n",
    "\n",
    "price = driver.find_elements('xpath','//div[@class=\"_30jeq3\"]')\n",
    "len(price)\n",
    "\n",
    "Price = []\n",
    "\n",
    "for i in price:\n",
    "    Price.append(i.text)\n",
    "    \n",
    "Price\n",
    "\n",
    "prcnt = driver.find_elements('xpath','//div[@class=\"_3Ay6Sb\"]')\n",
    "len(prcnt)\n",
    "\n",
    "Percentage = []\n",
    "\n",
    "for i in prcnt:\n",
    "    Percentage.append(i.text)\n",
    "    \n",
    "Percentage\n",
    "\n",
    "print(Brand)\n",
    "print(Percentage)\n",
    "print(Price)\n",
    "print(product_description)"
   ]
  },
  {
   "cell_type": "code",
   "execution_count": null,
   "id": "759c30db",
   "metadata": {},
   "outputs": [],
   "source": [
    "nxt_button = driver.find_element('xpath','/html/body/div[1]/div/div[3]/div[1]/div[2]/div[12]/div/div/nav/a[12]/span')\n",
    "nxt_button"
   ]
  },
  {
   "cell_type": "code",
   "execution_count": null,
   "id": "4890fd1c",
   "metadata": {},
   "outputs": [],
   "source": [
    "nxt_button.click()"
   ]
  },
  {
   "cell_type": "code",
   "execution_count": null,
   "id": "861fce57",
   "metadata": {},
   "outputs": [],
   "source": [
    "brand_tags = driver.find_elements('xpath','//div[@class=\"_2WkVRV\"]')[0:20]\n",
    "len(brand_tags)\n",
    "\n",
    "Brand = []\n",
    "\n",
    "for i in brand_tags:\n",
    "    Brand.append(i.text)\n",
    "    \n",
    "Brand\n",
    "\n",
    "prd_desc = driver.find_elements('xpath','//a[@class=\"IRpwTa\"]')[0:20]\n",
    "len(prd_desc)\n",
    "\n",
    "product_description = []\n",
    "\n",
    "for i in prd_desc:\n",
    "    product_description.append(i.text)\n",
    "    \n",
    "product_description\n",
    "\n",
    "price = driver.find_elements('xpath','//div[@class=\"_30jeq3\"]')[0:20]\n",
    "len(price)\n",
    "\n",
    "Price = []\n",
    "\n",
    "for i in price:\n",
    "    Price.append(i.text)\n",
    "    \n",
    "Price\n",
    "\n",
    "prcnt = driver.find_elements('xpath','//div[@class=\"_3Ay6Sb\"]')[0:20]\n",
    "len(prcnt)\n",
    "\n",
    "Percentage = []\n",
    "\n",
    "for i in prcnt:\n",
    "    Percentage.append(i.text)\n",
    "    \n",
    "Percentage\n",
    "\n",
    "print(Brand)\n",
    "print(Percentage)\n",
    "print(Price)\n",
    "print(product_description)"
   ]
  },
  {
   "cell_type": "code",
   "execution_count": null,
   "id": "cc888401",
   "metadata": {},
   "outputs": [],
   "source": []
  },
  {
   "cell_type": "markdown",
   "id": "e2355060",
   "metadata": {},
   "source": [
    "# QUESTION - 8"
   ]
  },
  {
   "cell_type": "code",
   "execution_count": 22,
   "id": "892a15ea",
   "metadata": {},
   "outputs": [],
   "source": [
    "url = 'https://www.amazon.in/'\n",
    "driver.get(url)"
   ]
  },
  {
   "cell_type": "code",
   "execution_count": 23,
   "id": "7e8a7c22",
   "metadata": {},
   "outputs": [
    {
     "data": {
      "text/plain": [
       "<selenium.webdriver.remote.webelement.WebElement (session=\"81182bdcbc62e09be1e2f5e7147bf997\", element=\"dbe73437-e828-4979-9b31-8b745a46c6f6\")>"
      ]
     },
     "execution_count": 23,
     "metadata": {},
     "output_type": "execute_result"
    }
   ],
   "source": [
    "search_job =driver.find_element(\"xpath\", '/html/body/div[1]/header/div/div[1]/div[2]/div/form/div[2]/div[1]/input ')\n",
    "search_job"
   ]
  },
  {
   "cell_type": "code",
   "execution_count": 24,
   "id": "0107fb43",
   "metadata": {},
   "outputs": [],
   "source": [
    "search_job.send_keys(\"laptops\")"
   ]
  },
  {
   "cell_type": "code",
   "execution_count": 25,
   "id": "a91d0c98",
   "metadata": {},
   "outputs": [
    {
     "data": {
      "text/plain": [
       "<selenium.webdriver.remote.webelement.WebElement (session=\"81182bdcbc62e09be1e2f5e7147bf997\", element=\"ae8a7c54-c774-425c-be25-144b5120fc9e\")>"
      ]
     },
     "execution_count": 25,
     "metadata": {},
     "output_type": "execute_result"
    }
   ],
   "source": [
    "search_bttn = driver.find_element('xpath','/html/body/div[1]/header/div/div[1]/div[2]/div/form/div[3]/div/span/input')\n",
    "search_bttn"
   ]
  },
  {
   "cell_type": "code",
   "execution_count": 26,
   "id": "6b01b00b",
   "metadata": {},
   "outputs": [],
   "source": [
    "search_bttn.click()"
   ]
  },
  {
   "cell_type": "code",
   "execution_count": 27,
   "id": "f9ccd443",
   "metadata": {},
   "outputs": [
    {
     "data": {
      "text/plain": [
       "<selenium.webdriver.remote.webelement.WebElement (session=\"81182bdcbc62e09be1e2f5e7147bf997\", element=\"4df190d7-81ce-47fc-a462-39991339dffb\")>"
      ]
     },
     "execution_count": 27,
     "metadata": {},
     "output_type": "execute_result"
    }
   ],
   "source": [
    "cpu_typ = driver.find_element(\"xpath\",'/html/body/div[1]/div[2]/div[1]/div[2]/div/div[3]/span/div[1]/div/div/div[5]/ul[2]/li[12]/span/a/span')\n",
    "cpu_typ"
   ]
  },
  {
   "cell_type": "code",
   "execution_count": 28,
   "id": "44b575bd",
   "metadata": {},
   "outputs": [],
   "source": [
    "cpu_typ.click()"
   ]
  },
  {
   "cell_type": "code",
   "execution_count": 29,
   "id": "96cc3f38",
   "metadata": {},
   "outputs": [
    {
     "data": {
      "text/plain": [
       "10"
      ]
     },
     "execution_count": 29,
     "metadata": {},
     "output_type": "execute_result"
    }
   ],
   "source": [
    "title_tags = driver.find_elements('xpath','//h2[@class=\"a-size-mini a-spacing-none a-color-base s-line-clamp-2\"]')[0:10]\n",
    "len(title_tags)"
   ]
  },
  {
   "cell_type": "code",
   "execution_count": 30,
   "id": "9b223904",
   "metadata": {},
   "outputs": [
    {
     "data": {
      "text/plain": [
       "['Acer Nitro 5 Core i7 11th Gen 15.6\" (39.62cms) Full HD IPS Gaming Laptop (16 GB/256GB SSD/1 TB HDD/Win 11/4 GB Graphics/NVIDIA GeForce RTX 3050 Ti/144 Hz, Black, 2.4 kg) AN515-57',\n",
       " 'Lenovo Legion 5 Pro Intel Core i7 11th Gen 16\"(40.64cm) 500nits WQXGA Gaming Laptop (16GB/1TB SSD/6GB RTX 3060/165Hz/Win11/Office/Blue Backlit/3Yr Warranty/3months Game Pass/Stingray/2.3Kg),82JD005KIN',\n",
       " 'ASUS TUF Gaming F15 (2021), 15.6\" (39.62 cms) FHD 144Hz, Intel Core i7-11600H 11th Gen, 4GB RTX 3050 Graphics, Gaming Laptop (16GB/512GB SSD/Windows 10/Office 2019/Gray/2.3 Kg), FX566HCB-HN299TS',\n",
       " 'Lenovo ThinkBook 15 Intel 11th Gen Core i7 15.6\"(39.62 cm)FHD Thin and Light Laptop (16GB/512GB SSD/Windows 11 Home/MS Office H&S 2021/Iris® Xe Graphics/Backlit/Mineral Grey/1.7 Kg) 20VE00W4IH',\n",
       " 'ASUS Vivobook 15, 15.6-inch (39.62 cms) FHD, Intel Core i7-1065G7 10th Gen, Thin and Light Laptop (16GB/512GB SSD/Iris Plus Graphics/Windows 11/Office 2021/Silver/1.8 kg), X515JA-EJ701WS',\n",
       " 'Infinix INBook X1 Pro Core i7 10th Gen - (16 GB/512 GB SSD/Windows 11 Home) XL12 Thin and Light Laptop (14 Inch, Noble Red, 1.48 kg)',\n",
       " 'Lenovo IdeaPad Slim 5 Pro Intel Core i7 11th Gen 14\" (35.56cm) 2.2K IPS Thin & Light Laptop (16GB/512GB SSD/Win11/Office 2021/Backlit/3Yr Warranty/3months Game Pass/Storm Grey/1.38Kg), 82L3006YIN',\n",
       " 'Hp Pavilion X360 11Th Gen Intel Core I7 14 Inches Fhd Multitouch 2In1 Laptop (16Gb Ram/512Gb Ssd/B&O/Windows 11 Home/Fpr/Backlit Kb/Intel Iris Xe Graphics/Pen/Alexa/Ms Office/Silver/1.52Kg)14-Dy1047Tu',\n",
       " 'Samsung Galaxy Book2 Intel 12th Gen core i7 39.6cm (15.6\") FHD LED Thin & Light Laptop (16 GB/512 GB SSD/Windows 11/MS Office/Backlit Keyboard/Fingerprint Reader/Silver/1.55Kg), NP750XED-KC2IN',\n",
       " 'ASUS Zenbook 14 OLED (2022), 14\" (35.56 cms) 2.8K OLED 16:10 90Hz, Intel Core Evo i7-1260P 12th Gen, Thin and Light Laptop (16GB/512GB SSD/Windows 11/Office 2021/Blue/1.39 kg), UX3402ZA-KM731WS']"
      ]
     },
     "execution_count": 30,
     "metadata": {},
     "output_type": "execute_result"
    }
   ],
   "source": [
    "laptop_titles = []\n",
    "\n",
    "for i in title_tags:\n",
    "    laptop_titles.append(i.text)\n",
    "    \n",
    "laptop_titles"
   ]
  },
  {
   "cell_type": "code",
   "execution_count": 31,
   "id": "09b93598",
   "metadata": {},
   "outputs": [
    {
     "data": {
      "text/plain": [
       "10"
      ]
     },
     "execution_count": 31,
     "metadata": {},
     "output_type": "execute_result"
    }
   ],
   "source": [
    "Ratings_tags = driver.find_elements('xpath','//a[@class=\"a-popover-trigger a-declarative\"]')[0:10]\n",
    "len(Ratings_tags)"
   ]
  },
  {
   "cell_type": "code",
   "execution_count": 32,
   "id": "ee356789",
   "metadata": {},
   "outputs": [
    {
     "data": {
      "text/plain": [
       "['', '', '', '', '', '', '', '', '', '']"
      ]
     },
     "execution_count": 32,
     "metadata": {},
     "output_type": "execute_result"
    }
   ],
   "source": [
    "ratings = []\n",
    "\n",
    "for i in Ratings_tags:\n",
    "    ratings.append(i.text)\n",
    "    \n",
    "ratings"
   ]
  },
  {
   "cell_type": "code",
   "execution_count": 33,
   "id": "dd67edf5",
   "metadata": {},
   "outputs": [
    {
     "data": {
      "text/plain": [
       "10"
      ]
     },
     "execution_count": 33,
     "metadata": {},
     "output_type": "execute_result"
    }
   ],
   "source": [
    "price_tags = driver.find_elements('xpath','//span[@class=\"a-price-whole\"]')[0:10]\n",
    "len(price_tags)"
   ]
  },
  {
   "cell_type": "code",
   "execution_count": 34,
   "id": "cb0ba58c",
   "metadata": {},
   "outputs": [
    {
     "data": {
      "text/plain": [
       "['99,990',\n",
       " '1,59,990',\n",
       " '89,990',\n",
       " '86,990',\n",
       " '57,890',\n",
       " '53,999',\n",
       " '75,990',\n",
       " '82,990',\n",
       " '79,990',\n",
       " '1,07,794']"
      ]
     },
     "execution_count": 34,
     "metadata": {},
     "output_type": "execute_result"
    }
   ],
   "source": [
    "gs-title"
   ]
  },
  {
   "cell_type": "code",
   "execution_count": null,
   "id": "bd687abf",
   "metadata": {},
   "outputs": [],
   "source": []
  },
  {
   "cell_type": "markdown",
   "id": "b6d0e472",
   "metadata": {},
   "source": [
    "# QUESTION - 9"
   ]
  },
  {
   "cell_type": "code",
   "execution_count": 35,
   "id": "9a543480",
   "metadata": {},
   "outputs": [],
   "source": [
    "url = 'https://www.ambitionbox.com/'\n",
    "driver.get(url)"
   ]
  },
  {
   "cell_type": "code",
   "execution_count": 36,
   "id": "15253fe8",
   "metadata": {},
   "outputs": [
    {
     "data": {
      "text/plain": [
       "<selenium.webdriver.remote.webelement.WebElement (session=\"81182bdcbc62e09be1e2f5e7147bf997\", element=\"9f104b76-e692-4fd9-b072-e80b06a2b7b9\")>"
      ]
     },
     "execution_count": 36,
     "metadata": {},
     "output_type": "execute_result"
    }
   ],
   "source": [
    "search_job =driver.find_element(\"xpath\", '/html/body/section[1]/div/div[2]/form/span/input ')\n",
    "search_job"
   ]
  },
  {
   "cell_type": "code",
   "execution_count": 37,
   "id": "b331abfe",
   "metadata": {},
   "outputs": [],
   "source": [
    "search_job.send_keys(\"Data Scientist\")"
   ]
  },
  {
   "cell_type": "code",
   "execution_count": 38,
   "id": "76f2005f",
   "metadata": {},
   "outputs": [
    {
     "data": {
      "text/plain": [
       "<selenium.webdriver.remote.webelement.WebElement (session=\"81182bdcbc62e09be1e2f5e7147bf997\", element=\"4ae1dfa6-ec6c-46cb-af8b-0eafcdd4af63\")>"
      ]
     },
     "execution_count": 38,
     "metadata": {},
     "output_type": "execute_result"
    }
   ],
   "source": [
    "search_bttn = driver.find_element('xpath','/html/body/section[1]/div/div[2]/form/div[2]/input')\n",
    "search_bttn"
   ]
  },
  {
   "cell_type": "code",
   "execution_count": 39,
   "id": "a3ca0284",
   "metadata": {},
   "outputs": [],
   "source": [
    "search_bttn.click()"
   ]
  },
  {
   "cell_type": "code",
   "execution_count": 41,
   "id": "7e7edefd",
   "metadata": {},
   "outputs": [
    {
     "data": {
      "text/plain": [
       "10"
      ]
     },
     "execution_count": 41,
     "metadata": {},
     "output_type": "execute_result"
    }
   ],
   "source": [
    "title_tags = driver.find_elements('xpath','//a[@class=\"gs-title\"]')[0:10]\n",
    "len(title_tags)"
   ]
  },
  {
   "cell_type": "code",
   "execution_count": 42,
   "id": "0bea7785",
   "metadata": {},
   "outputs": [
    {
     "data": {
      "text/plain": [
       "['Lead Data Scientist Salary in India | AmbitionBox',\n",
       " '',\n",
       " 'Senior Data Scientist Salary in India | AmbitionBox',\n",
       " '',\n",
       " 'Data Scientist Salary in Bhubaneswar | AmbitionBox',\n",
       " '',\n",
       " 'Cyient Insights Data Scientist Salaries in India | AmbitionBox',\n",
       " '',\n",
       " 'Data Scientist Salary in Gurgaon/Gurugram | AmbitionBox',\n",
       " '']"
      ]
     },
     "execution_count": 42,
     "metadata": {},
     "output_type": "execute_result"
    }
   ],
   "source": [
    "job_title = []\n",
    "\n",
    "for i in title_tags:\n",
    "    job_title.append(i.text)\n",
    "    \n",
    "job_title"
   ]
  },
  {
   "cell_type": "code",
   "execution_count": 43,
   "id": "d6d97e30",
   "metadata": {},
   "outputs": [
    {
     "data": {
      "text/html": [
       "<div>\n",
       "<style scoped>\n",
       "    .dataframe tbody tr th:only-of-type {\n",
       "        vertical-align: middle;\n",
       "    }\n",
       "\n",
       "    .dataframe tbody tr th {\n",
       "        vertical-align: top;\n",
       "    }\n",
       "\n",
       "    .dataframe thead th {\n",
       "        text-align: right;\n",
       "    }\n",
       "</style>\n",
       "<table border=\"1\" class=\"dataframe\">\n",
       "  <thead>\n",
       "    <tr style=\"text-align: right;\">\n",
       "      <th></th>\n",
       "      <th>title</th>\n",
       "    </tr>\n",
       "  </thead>\n",
       "  <tbody>\n",
       "    <tr>\n",
       "      <th>0</th>\n",
       "      <td>Lead Data Scientist Salary in India | AmbitionBox</td>\n",
       "    </tr>\n",
       "    <tr>\n",
       "      <th>1</th>\n",
       "      <td></td>\n",
       "    </tr>\n",
       "    <tr>\n",
       "      <th>2</th>\n",
       "      <td>Senior Data Scientist Salary in India | Ambiti...</td>\n",
       "    </tr>\n",
       "    <tr>\n",
       "      <th>3</th>\n",
       "      <td></td>\n",
       "    </tr>\n",
       "    <tr>\n",
       "      <th>4</th>\n",
       "      <td>Data Scientist Salary in Bhubaneswar | Ambitio...</td>\n",
       "    </tr>\n",
       "    <tr>\n",
       "      <th>5</th>\n",
       "      <td></td>\n",
       "    </tr>\n",
       "    <tr>\n",
       "      <th>6</th>\n",
       "      <td>Cyient Insights Data Scientist Salaries in Ind...</td>\n",
       "    </tr>\n",
       "    <tr>\n",
       "      <th>7</th>\n",
       "      <td></td>\n",
       "    </tr>\n",
       "    <tr>\n",
       "      <th>8</th>\n",
       "      <td>Data Scientist Salary in Gurgaon/Gurugram | Am...</td>\n",
       "    </tr>\n",
       "    <tr>\n",
       "      <th>9</th>\n",
       "      <td></td>\n",
       "    </tr>\n",
       "  </tbody>\n",
       "</table>\n",
       "</div>"
      ],
      "text/plain": [
       "                                               title\n",
       "0  Lead Data Scientist Salary in India | AmbitionBox\n",
       "1                                                   \n",
       "2  Senior Data Scientist Salary in India | Ambiti...\n",
       "3                                                   \n",
       "4  Data Scientist Salary in Bhubaneswar | Ambitio...\n",
       "5                                                   \n",
       "6  Cyient Insights Data Scientist Salaries in Ind...\n",
       "7                                                   \n",
       "8  Data Scientist Salary in Gurgaon/Gurugram | Am...\n",
       "9                                                   "
      ]
     },
     "execution_count": 43,
     "metadata": {},
     "output_type": "execute_result"
    }
   ],
   "source": [
    "data = pd.DataFrame()\n",
    "data['title'] = job_title\n",
    "data"
   ]
  },
  {
   "cell_type": "code",
   "execution_count": null,
   "id": "108cf610",
   "metadata": {},
   "outputs": [],
   "source": []
  }
 ],
 "metadata": {
  "kernelspec": {
   "display_name": "Python 3 (ipykernel)",
   "language": "python",
   "name": "python3"
  },
  "language_info": {
   "codemirror_mode": {
    "name": "ipython",
    "version": 3
   },
   "file_extension": ".py",
   "mimetype": "text/x-python",
   "name": "python",
   "nbconvert_exporter": "python",
   "pygments_lexer": "ipython3",
   "version": "3.9.7"
  }
 },
 "nbformat": 4,
 "nbformat_minor": 5
}
